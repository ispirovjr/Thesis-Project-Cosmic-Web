{
 "cells": [
  {
   "cell_type": "code",
   "execution_count": 1,
   "id": "798b1a45",
   "metadata": {},
   "outputs": [],
   "source": [
    "import numpy as np\n",
    "from matplotlib import pyplot as plt\n",
    "\n",
    "import torch\n",
    "from torch.utils.data import Dataset\n",
    "from torchvision import datasets\n",
    "from torchvision.transforms import ToTensor\n",
    "from torch.utils.data import DataLoader\n",
    "from torch import nn\n",
    "\n",
    "import vaex\n",
    "import os\n",
    "\n",
    "from cycler import cycler"
   ]
  },
  {
   "cell_type": "code",
   "execution_count": 2,
   "id": "b275b67b",
   "metadata": {},
   "outputs": [
    {
     "data": {
      "image/png": "[encoded data removed]",
      "text/plain": [
       "<Figure size 432x288 with 1 Axes>"
      ]
     },
     "metadata": {
      "needs_background": "light"
     },
     "output_type": "display_data"
    }
   ],
   "source": [
    "\n",
    "\n",
    "plt.plot([1],[1])\n",
    "\n",
    "font = {\"weight\": \"normal\", \"size\": 14}\n",
    "plt.rcParams[\"axes.linewidth\"] = 1.5  # set the value globally\n",
    "plt.rc(\"font\", **font)\n",
    "plt.rcParams[\"axes.facecolor\"] = \"white\"\n",
    "plt.rcParams[\"figure.facecolor\"] = \"white\"\n",
    "_legend = {\"frameon\": True, \"framealpha\":0.7}\n",
    "plt.rc(\"legend\", **_legend)\n",
    "plt.rcParams[\"axes.prop_cycle\"] = cycler(\"color\",('indigo','b','r','k','#ff7f0e','g'))\n",
    "plt.show()"
   ]
  },
  {
   "cell_type": "code",
   "execution_count": 3,
   "id": "f8049df9",
   "metadata": {},
   "outputs": [],
   "source": [
    "path = \"/net/virgo01/data/users/spirov/Nexus Project/torchData\"\n",
    "p2 = \"/net/virgo01/data/users/spirov/Nexus Project/\""
   ]
  },
  {
   "cell_type": "code",
   "execution_count": 4,
   "id": "56320907",
   "metadata": {},
   "outputs": [],
   "source": [
    "@vaex.register_function()\n",
    "def correct(x):\n",
    "    L = 75000\n",
    "    return np.where(np.abs(x)>L/2, x-np.sign(x)*L,x)\n",
    "\n",
    "def localizeDataFrame(absDf, x,y,z):\n",
    "    rx = absDf.X - x\n",
    "    ry = absDf.Y - y\n",
    "    rz = absDf.Z - z\n",
    "    \n",
    "    L = 75000\n",
    "    \n",
    "    relx = rx.correct()\n",
    "    rely = ry.correct()\n",
    "    relz = rz.correct()\n",
    "    \n",
    "    \n",
    "    relR = np.sqrt(relx**2 + rely**2+relz**2)\n",
    "    \n",
    "    theta = np.arccos(-relz/relR)\n",
    "    fi = np.arctan2(relx,rely)\n",
    "    \n",
    "    relDf = absDf.copy()\n",
    "    \n",
    "    Vaway = (relx*absDf.Vx+rely*absDf.Vy+relz*absDf.Vz)/relR\n",
    "    \n",
    "        \n",
    "    relDf[\"Th\"] = theta\n",
    "    relDf[\"Fi\"] = fi\n",
    "    relDf[\"R\"] = relR\n",
    "    relDf[\"CZ\"] = relR/10 +Vaway\n",
    "    \n",
    "    \n",
    "    return relDf\n",
    "\n",
    "\n",
    "    \n",
    "c = 75000/2\n",
    "df = vaex.open(p2+\"baby_135.hdf5\")\n",
    "\n",
    "cdf = localizeDataFrame(df,c,c,c)"
   ]
  },
  {
   "cell_type": "code",
   "execution_count": 5,
   "id": "72ccbf3d",
   "metadata": {},
   "outputs": [],
   "source": [
    "name = \"testMan.hdf5\"\n",
    "cdf.export_hdf5(path+\"/relativeDataFrames/\"+name)"
   ]
  },
  {
   "cell_type": "code",
   "execution_count": 8,
   "id": "cea25930",
   "metadata": {},
   "outputs": [],
   "source": [
    "class CustomVaexDataset(Dataset):\n",
    "    def __init__(self,frameDir):\n",
    "        self.lengt = len(os.listdir(frameDir))\n",
    "        self.frameDir = frameDir\n",
    "    \n",
    "    def __len__(self):\n",
    "        return self.lengt\n",
    "        \n",
    "        \n",
    "    def __getitem__(self,idx):\n",
    "        fil = self.frameDir+os.listdir(self.frameDir)[idx]\n",
    "        df = vaex.open(fil)\n",
    "        \n",
    "        th = df.Th.values\n",
    "        fi = df.Fi.values\n",
    "        R = df.R.values\n",
    "        CZ = df.CZ.values\n",
    "        \n",
    "        broken = np.array((CZ,th,fi))\n",
    "        truth = np.array((R,th,fi))\n",
    "        \n",
    "        return torch.tensor(broken), torch.tensor(truth)\n",
    "                 \n",
    "                 \n",
    "                 "
   ]
  },
  {
   "cell_type": "code",
   "execution_count": 9,
   "id": "0d5d8134",
   "metadata": {},
   "outputs": [],
   "source": [
    "ds = CustomVaexDataset(path+\"/relativeDataFrames/\")"
   ]
  },
  {
   "cell_type": "code",
   "execution_count": 10,
   "id": "cb065cb7",
   "metadata": {},
   "outputs": [],
   "source": [
    "a,b = ds.__getitem__(0)"
   ]
  },
  {
   "cell_type": "code",
   "execution_count": 11,
   "id": "7c2e8f16",
   "metadata": {},
   "outputs": [
    {
     "data": {
      "text/plain": [
       "torch.Size([3, 94197])"
      ]
     },
     "execution_count": 11,
     "metadata": {},
     "output_type": "execute_result"
    }
   ],
   "source": [
    "a.size()"
   ]
  },
  {
   "cell_type": "code",
   "execution_count": 12,
   "id": "46cc5b5c",
   "metadata": {},
   "outputs": [
    {
     "data": {
      "text/plain": [
       "tensor([4.2277e+03, 4.2104e+03, 4.1572e+03,  ..., 1.0839e+00, 2.0415e+00,\n",
       "        1.0825e+00], dtype=torch.float64)"
      ]
     },
     "execution_count": 12,
     "metadata": {},
     "output_type": "execute_result"
    }
   ],
   "source": [
    "a.flatten()"
   ]
  },
  {
   "cell_type": "code",
   "execution_count": 13,
   "id": "4193c931",
   "metadata": {},
   "outputs": [
    {
     "data": {
      "text/plain": [
       "__main__.CustomVaexDataset"
      ]
     },
     "execution_count": 13,
     "metadata": {},
     "output_type": "execute_result"
    }
   ],
   "source": [
    "type(ds)"
   ]
  },
  {
   "cell_type": "markdown",
   "id": "23a67d9b",
   "metadata": {},
   "source": [
    "# Goals:\n",
    "\n",
    "\n",
    "\n",
    "> create dataset of some size\n",
    "\n",
    "> construct model with appropriate architecture"
   ]
  },
  {
   "cell_type": "code",
   "execution_count": null,
   "id": "23bcd0ed",
   "metadata": {},
   "outputs": [],
   "source": []
  }
 ],
 "metadata": {
  "kernelspec": {
   "display_name": "Anaconda3 - 2020.07",
   "language": "python",
   "name": "python3-2020.07"
  },
  "language_info": {
   "codemirror_mode": {
    "name": "ipython",
    "version": 3
   },
   "file_extension": ".py",
   "mimetype": "text/x-python",
   "name": "python",
   "nbconvert_exporter": "python",
   "pygments_lexer": "ipython3",
   "version": "3.8.3"
  }
 },
 "nbformat": 4,
 "nbformat_minor": 5
}
